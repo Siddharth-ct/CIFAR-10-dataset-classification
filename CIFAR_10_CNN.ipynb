{
  "nbformat": 4,
  "nbformat_minor": 0,
  "metadata": {
    "colab": {
      "name": "CIFAR 10_cnn.ipynb",
      "provenance": [],
      "collapsed_sections": []
    },
    "kernelspec": {
      "name": "python3",
      "display_name": "Python 3"
    },
    "language_info": {
      "name": "python"
    },
    "accelerator": "GPU"
  },
  "cells": [
    {
      "cell_type": "code",
      "metadata": {
        "id": "WA7Mqy2W9WGx"
      },
      "source": [
        "#importing the required modules\n",
        "\n",
        "import tensorflow as tf\n",
        "from tensorflow.keras import datasets, layers, models\n",
        "import matplotlib.pyplot as plt\n",
        "import numpy as np\n",
        "import seaborn as sn\n",
        "import datetime\n",
        "!rm -rf ./.logs/\n",
        "from sklearn.metrics import confusion_matrix , classification_report"
      ],
      "execution_count": 1,
      "outputs": []
    },
    {
      "cell_type": "code",
      "metadata": {
        "colab": {
          "base_uri": "https://localhost:8080/"
        },
        "id": "ikyoQ_ub9z3g",
        "outputId": "4828f0c0-8b03-4b84-f228-c8ccbdd6a683"
      },
      "source": [
        "#Loading the data as an array of images\n",
        "(x_train, y_train), (x_test,y_test) = datasets.cifar10.load_data()"
      ],
      "execution_count": 2,
      "outputs": [
        {
          "output_type": "stream",
          "name": "stdout",
          "text": [
            "Downloading data from https://www.cs.toronto.edu/~kriz/cifar-10-python.tar.gz\n",
            "170500096/170498071 [==============================] - 11s 0us/step\n",
            "170508288/170498071 [==============================] - 11s 0us/step\n"
          ]
        },
        {
          "output_type": "execute_result",
          "data": {
            "text/plain": [
              "(50000, 32, 32, 3)"
            ]
          },
          "metadata": {},
          "execution_count": 2
        }
      ]
    },
    {
      "cell_type": "code",
      "metadata": {
        "colab": {
          "base_uri": "https://localhost:8080/"
        },
        "id": "YnOqHsdGU4ui",
        "outputId": "845f5f48-75d4-48b6-a22c-b7750ac713a8"
      },
      "source": [
        "#visualizing the shape of the train images and classified values of images\n",
        "x_train.shape, y_train.shape"
      ],
      "execution_count": 4,
      "outputs": [
        {
          "output_type": "execute_result",
          "data": {
            "text/plain": [
              "((50000, 32, 32, 3), (50000, 1))"
            ]
          },
          "metadata": {},
          "execution_count": 4
        }
      ]
    },
    {
      "cell_type": "code",
      "metadata": {
        "colab": {
          "base_uri": "https://localhost:8080/"
        },
        "id": "pWue62x3-B-P",
        "outputId": "9213b608-d512-4728-b822-227c916c21fb"
      },
      "source": [
        "#visualizing the shape of the test images\n",
        "x_test.shape, y_train.shape"
      ],
      "execution_count": 5,
      "outputs": [
        {
          "output_type": "execute_result",
          "data": {
            "text/plain": [
              "((10000, 32, 32, 3), (50000, 1))"
            ]
          },
          "metadata": {},
          "execution_count": 5
        }
      ]
    },
    {
      "cell_type": "code",
      "metadata": {
        "colab": {
          "base_uri": "https://localhost:8080/"
        },
        "id": "Djt4b4OCb7sw",
        "outputId": "6279ea38-01c7-4c4b-8369-81c72aa30844"
      },
      "source": [
        "#visualizing a random image pixel values\n",
        "x_train[0]"
      ],
      "execution_count": 7,
      "outputs": [
        {
          "output_type": "execute_result",
          "data": {
            "text/plain": [
              "array([[[ 59,  62,  63],\n",
              "        [ 43,  46,  45],\n",
              "        [ 50,  48,  43],\n",
              "        ...,\n",
              "        [158, 132, 108],\n",
              "        [152, 125, 102],\n",
              "        [148, 124, 103]],\n",
              "\n",
              "       [[ 16,  20,  20],\n",
              "        [  0,   0,   0],\n",
              "        [ 18,   8,   0],\n",
              "        ...,\n",
              "        [123,  88,  55],\n",
              "        [119,  83,  50],\n",
              "        [122,  87,  57]],\n",
              "\n",
              "       [[ 25,  24,  21],\n",
              "        [ 16,   7,   0],\n",
              "        [ 49,  27,   8],\n",
              "        ...,\n",
              "        [118,  84,  50],\n",
              "        [120,  84,  50],\n",
              "        [109,  73,  42]],\n",
              "\n",
              "       ...,\n",
              "\n",
              "       [[208, 170,  96],\n",
              "        [201, 153,  34],\n",
              "        [198, 161,  26],\n",
              "        ...,\n",
              "        [160, 133,  70],\n",
              "        [ 56,  31,   7],\n",
              "        [ 53,  34,  20]],\n",
              "\n",
              "       [[180, 139,  96],\n",
              "        [173, 123,  42],\n",
              "        [186, 144,  30],\n",
              "        ...,\n",
              "        [184, 148,  94],\n",
              "        [ 97,  62,  34],\n",
              "        [ 83,  53,  34]],\n",
              "\n",
              "       [[177, 144, 116],\n",
              "        [168, 129,  94],\n",
              "        [179, 142,  87],\n",
              "        ...,\n",
              "        [216, 184, 140],\n",
              "        [151, 118,  84],\n",
              "        [123,  92,  72]]], dtype=uint8)"
            ]
          },
          "metadata": {},
          "execution_count": 7
        }
      ]
    },
    {
      "cell_type": "code",
      "metadata": {
        "id": "b_-XuRUFceLI"
      },
      "source": [
        "#normalizing the pixel values of the images from 0.0 to 1.0\n",
        "\n",
        "x_train = x_train.astype('float32') \n",
        "x_test = x_test.astype('float32') \n",
        "x_train_normalised = x_train / 255\n",
        "x_test_normalised = x_test / 255"
      ],
      "execution_count": 8,
      "outputs": []
    },
    {
      "cell_type": "code",
      "metadata": {
        "colab": {
          "base_uri": "https://localhost:8080/"
        },
        "id": "BD5SCA8_-Klg",
        "outputId": "c3f6fe97-a128-431c-e805-9fcaa4c428d7"
      },
      "source": [
        "#y_train consists of values from 0 to 9 which show which class the image belongs to\n",
        "y_train[0:10]"
      ],
      "execution_count": 9,
      "outputs": [
        {
          "output_type": "execute_result",
          "data": {
            "text/plain": [
              "array([[6],\n",
              "       [9],\n",
              "       [9],\n",
              "       [4],\n",
              "       [1],\n",
              "       [1],\n",
              "       [2],\n",
              "       [7],\n",
              "       [8],\n",
              "       [3]], dtype=uint8)"
            ]
          },
          "metadata": {},
          "execution_count": 9
        }
      ]
    },
    {
      "cell_type": "code",
      "metadata": {
        "colab": {
          "base_uri": "https://localhost:8080/"
        },
        "id": "IOhVptBW-Snf",
        "outputId": "ff5ee186-70c4-4da3-e82b-ef2188c2b816"
      },
      "source": [
        "#reshaping the y_train and y_test array so that it can be used easily as inputs for the model\n",
        "y_train = y_train.reshape(-1,)\n",
        "y_test = y_test.reshape(-1,)\n",
        "y_train[:10]"
      ],
      "execution_count": 10,
      "outputs": [
        {
          "output_type": "execute_result",
          "data": {
            "text/plain": [
              "array([6, 9, 9, 4, 1, 1, 2, 7, 8, 3], dtype=uint8)"
            ]
          },
          "metadata": {},
          "execution_count": 10
        }
      ]
    },
    {
      "cell_type": "code",
      "metadata": {
        "colab": {
          "base_uri": "https://localhost:8080/"
        },
        "id": "gmf4-JNKc-Rl",
        "outputId": "7fbe241a-7542-488e-8dbb-d00c1d58d72b"
      },
      "source": [
        "#visualizing the normalized image as an array\n",
        "x_train_normalised[0]"
      ],
      "execution_count": 11,
      "outputs": [
        {
          "output_type": "execute_result",
          "data": {
            "text/plain": [
              "array([[[0.23137255, 0.24313726, 0.24705882],\n",
              "        [0.16862746, 0.18039216, 0.1764706 ],\n",
              "        [0.19607843, 0.1882353 , 0.16862746],\n",
              "        ...,\n",
              "        [0.61960787, 0.5176471 , 0.42352942],\n",
              "        [0.59607846, 0.49019608, 0.4       ],\n",
              "        [0.5803922 , 0.4862745 , 0.40392157]],\n",
              "\n",
              "       [[0.0627451 , 0.07843138, 0.07843138],\n",
              "        [0.        , 0.        , 0.        ],\n",
              "        [0.07058824, 0.03137255, 0.        ],\n",
              "        ...,\n",
              "        [0.48235294, 0.34509805, 0.21568628],\n",
              "        [0.46666667, 0.3254902 , 0.19607843],\n",
              "        [0.47843137, 0.34117648, 0.22352941]],\n",
              "\n",
              "       [[0.09803922, 0.09411765, 0.08235294],\n",
              "        [0.0627451 , 0.02745098, 0.        ],\n",
              "        [0.19215687, 0.10588235, 0.03137255],\n",
              "        ...,\n",
              "        [0.4627451 , 0.32941177, 0.19607843],\n",
              "        [0.47058824, 0.32941177, 0.19607843],\n",
              "        [0.42745098, 0.28627452, 0.16470589]],\n",
              "\n",
              "       ...,\n",
              "\n",
              "       [[0.8156863 , 0.6666667 , 0.3764706 ],\n",
              "        [0.7882353 , 0.6       , 0.13333334],\n",
              "        [0.7764706 , 0.6313726 , 0.10196079],\n",
              "        ...,\n",
              "        [0.627451  , 0.52156866, 0.27450982],\n",
              "        [0.21960784, 0.12156863, 0.02745098],\n",
              "        [0.20784314, 0.13333334, 0.07843138]],\n",
              "\n",
              "       [[0.7058824 , 0.54509807, 0.3764706 ],\n",
              "        [0.6784314 , 0.48235294, 0.16470589],\n",
              "        [0.7294118 , 0.5647059 , 0.11764706],\n",
              "        ...,\n",
              "        [0.72156864, 0.5803922 , 0.36862746],\n",
              "        [0.38039216, 0.24313726, 0.13333334],\n",
              "        [0.3254902 , 0.20784314, 0.13333334]],\n",
              "\n",
              "       [[0.69411767, 0.5647059 , 0.45490196],\n",
              "        [0.65882355, 0.5058824 , 0.36862746],\n",
              "        [0.7019608 , 0.5568628 , 0.34117648],\n",
              "        ...,\n",
              "        [0.84705883, 0.72156864, 0.54901963],\n",
              "        [0.5921569 , 0.4627451 , 0.32941177],\n",
              "        [0.48235294, 0.36078432, 0.28235295]]], dtype=float32)"
            ]
          },
          "metadata": {},
          "execution_count": 11
        }
      ]
    },
    {
      "cell_type": "code",
      "metadata": {
        "id": "jEwxIW5O_FHr"
      },
      "source": [
        "#numbers from 0 to 9 represent the following classes.\n",
        "classes = [\"airplane\",\"automobile\",\"bird\",\"cat\",\"deer\",\"dog\",\"frog\",\"horse\",\"ship\",\"truck\"]"
      ],
      "execution_count": 12,
      "outputs": []
    },
    {
      "cell_type": "code",
      "metadata": {
        "id": "fkA31ZhyAmLH"
      },
      "source": [
        "#function to plot image and its respective class\n",
        "def image(x, y, i):\n",
        "    plt.imshow(x[i]) \n",
        "    plt.xlabel(classes[y[i]])"
      ],
      "execution_count": 13,
      "outputs": []
    },
    {
      "cell_type": "code",
      "metadata": {
        "colab": {
          "base_uri": "https://localhost:8080/",
          "height": 280
        },
        "id": "y7A30xZVr8xg",
        "outputId": "498348c9-694d-4192-d62c-958a36a65f2d"
      },
      "source": [
        "#plotting a random image\n",
        "image(x_train_normalised, y_train, 19)"
      ],
      "execution_count": 14,
      "outputs": [
        {
          "output_type": "display_data",
          "data": {
            "image/png": "[encoded data removed]",
            "text/plain": [
              "<Figure size 432x288 with 1 Axes>"
            ]
          },
          "metadata": {
            "needs_background": "light"
          }
        }
      ]
    },
    {
      "cell_type": "code",
      "metadata": {
        "colab": {
          "base_uri": "https://localhost:8080/",
          "height": 280
        },
        "id": "VtRf0NrjBl3Y",
        "outputId": "55400d80-8b46-4b8d-e9d8-318f89bbf186"
      },
      "source": [
        "#plotting another random image\n",
        "image(x_test_normalised, y_test, 13)"
      ],
      "execution_count": 15,
      "outputs": [
        {
          "output_type": "display_data",
          "data": {
            "image/png": "[encoded data removed]",
            "text/plain": [
              "<Figure size 432x288 with 1 Axes>"
            ]
          },
          "metadata": {
            "needs_background": "light"
          }
        }
      ]
    },
    {
      "cell_type": "code",
      "metadata": {
        "id": "vPdRXp8fKfOq"
      },
      "source": [
        "#defining the CNN model and all its layers\n",
        "\n",
        "cnn_model= tf.keras.models.Sequential([\n",
        "    layers.Conv2D(filters = 64, kernel_size = 3, strides = (1,1) ,padding = 'same', activation='relu', input_shape = (32,32,3)),\n",
        "    layers.Dropout(0.2),\n",
        "    layers.BatchNormalization(),\n",
        "\n",
        "    layers.Conv2D(filters = 128, kernel_size = 3, strides = (1,1) ,padding = 'same', activation='relu'),\n",
        "    layers.MaxPool2D(pool_size= (2,2)),\n",
        "    layers.Dropout(0.2),\n",
        "    layers.BatchNormalization(),\n",
        "\n",
        "    layers.Conv2D(filters = 256, kernel_size = 3, strides = (1,1) ,padding = 'same', activation='relu'),\n",
        "    layers.MaxPool2D(pool_size= (2,2)),\n",
        "    layers.Dropout(0.2),\n",
        "    layers.BatchNormalization(),\n",
        "\n",
        "    layers.Conv2D(filters = 512, kernel_size = 3, strides = (1,1) ,padding = 'same', activation='relu'),\n",
        "    layers.MaxPool2D(pool_size= (2,2)),\n",
        "    layers.Dropout(0.2),\n",
        "    layers.BatchNormalization(),\n",
        "\n",
        "    layers.Flatten(),\n",
        "    layers.Dropout(0.2),\n",
        "\n",
        "    layers.Dense(128, activation= 'relu'),\n",
        "    layers.Dropout(0.2),\n",
        "    layers.BatchNormalization(),\n",
        "\n",
        "    layers.Dense(256, activation= 'relu'),\n",
        "    layers.Dropout(0.2),\n",
        "    layers.BatchNormalization(),\n",
        "\n",
        "    layers.Dense(512, activation= 'relu'),\n",
        "    layers.Dropout(0.2),\n",
        "    layers.BatchNormalization(),\n",
        "\n",
        "    layers.Dense(1024, activation= 'relu'),\n",
        "    layers.Dropout(0.2),\n",
        "    layers.BatchNormalization(),\n",
        "\n",
        "    layers.Dense(10, activation='softmax')\n",
        "])"
      ],
      "execution_count": 16,
      "outputs": []
    },
    {
      "cell_type": "code",
      "metadata": {
        "colab": {
          "base_uri": "https://localhost:8080/"
        },
        "id": "CQp9AxtZvTM0",
        "outputId": "000d58db-4136-4e38-bd3f-91cd5ee9016a"
      },
      "source": [
        "#Summary of the made model to visualize it \n",
        "cnn_model.summary()"
      ],
      "execution_count": 18,
      "outputs": [
        {
          "output_type": "stream",
          "name": "stdout",
          "text": [
            "Model: \"sequential\"\n",
            "_________________________________________________________________\n",
            "Layer (type)                 Output Shape              Param #   \n",
            "=================================================================\n",
            "conv2d (Conv2D)              (None, 32, 32, 64)        1792      \n",
            "_________________________________________________________________\n",
            "dropout (Dropout)            (None, 32, 32, 64)        0         \n",
            "_________________________________________________________________\n",
            "batch_normalization (BatchNo (None, 32, 32, 64)        256       \n",
            "_________________________________________________________________\n",
            "conv2d_1 (Conv2D)            (None, 32, 32, 128)       73856     \n",
            "_________________________________________________________________\n",
            "max_pooling2d (MaxPooling2D) (None, 16, 16, 128)       0         \n",
            "_________________________________________________________________\n",
            "dropout_1 (Dropout)          (None, 16, 16, 128)       0         \n",
            "_________________________________________________________________\n",
            "batch_normalization_1 (Batch (None, 16, 16, 128)       512       \n",
            "_________________________________________________________________\n",
            "conv2d_2 (Conv2D)            (None, 16, 16, 256)       295168    \n",
            "_________________________________________________________________\n",
            "max_pooling2d_1 (MaxPooling2 (None, 8, 8, 256)         0         \n",
            "_________________________________________________________________\n",
            "dropout_2 (Dropout)          (None, 8, 8, 256)         0         \n",
            "_________________________________________________________________\n",
            "batch_normalization_2 (Batch (None, 8, 8, 256)         1024      \n",
            "_________________________________________________________________\n",
            "conv2d_3 (Conv2D)            (None, 8, 8, 512)         1180160   \n",
            "_________________________________________________________________\n",
            "max_pooling2d_2 (MaxPooling2 (None, 4, 4, 512)         0         \n",
            "_________________________________________________________________\n",
            "dropout_3 (Dropout)          (None, 4, 4, 512)         0         \n",
            "_________________________________________________________________\n",
            "batch_normalization_3 (Batch (None, 4, 4, 512)         2048      \n",
            "_________________________________________________________________\n",
            "flatten (Flatten)            (None, 8192)              0         \n",
            "_________________________________________________________________\n",
            "dropout_4 (Dropout)          (None, 8192)              0         \n",
            "_________________________________________________________________\n",
            "dense (Dense)                (None, 128)               1048704   \n",
            "_________________________________________________________________\n",
            "dropout_5 (Dropout)          (None, 128)               0         \n",
            "_________________________________________________________________\n",
            "batch_normalization_4 (Batch (None, 128)               512       \n",
            "_________________________________________________________________\n",
            "dense_1 (Dense)              (None, 256)               33024     \n",
            "_________________________________________________________________\n",
            "dropout_6 (Dropout)          (None, 256)               0         \n",
            "_________________________________________________________________\n",
            "batch_normalization_5 (Batch (None, 256)               1024      \n",
            "_________________________________________________________________\n",
            "dense_2 (Dense)              (None, 512)               131584    \n",
            "_________________________________________________________________\n",
            "dropout_7 (Dropout)          (None, 512)               0         \n",
            "_________________________________________________________________\n",
            "batch_normalization_6 (Batch (None, 512)               2048      \n",
            "_________________________________________________________________\n",
            "dense_3 (Dense)              (None, 1024)              525312    \n",
            "_________________________________________________________________\n",
            "dropout_8 (Dropout)          (None, 1024)              0         \n",
            "_________________________________________________________________\n",
            "batch_normalization_7 (Batch (None, 1024)              4096      \n",
            "_________________________________________________________________\n",
            "dense_4 (Dense)              (None, 10)                10250     \n",
            "=================================================================\n",
            "Total params: 3,311,370\n",
            "Trainable params: 3,305,610\n",
            "Non-trainable params: 5,760\n",
            "_________________________________________________________________\n"
          ]
        }
      ]
    },
    {
      "cell_type": "code",
      "metadata": {
        "id": "9mvic_-WLuED"
      },
      "source": [
        "#compiling the model and assigning callbacks to tensorboard to plot graphs later\n",
        "cnn_model.compile(optimizer='adam',\n",
        "              loss='sparse_categorical_crossentropy',\n",
        "              metrics=['accuracy'])\n",
        "\n",
        "log_dir = \"logs/fit/\" + datetime.datetime.now().strftime(\"%Y%m%d-%H%M%S\")\n",
        "tensorboard_callback = tf.keras.callbacks.TensorBoard(log_dir=log_dir, histogram_freq=1)"
      ],
      "execution_count": 19,
      "outputs": []
    },
    {
      "cell_type": "code",
      "metadata": {
        "colab": {
          "base_uri": "https://localhost:8080/"
        },
        "id": "y3neLUfmL9vA",
        "outputId": "5a960625-0f35-4f83-8061-305e731cb4cd"
      },
      "source": [
        "#training the model\n",
        "training_history = cnn_model.fit(x_train_normalised, y_train, epochs=20, batch_size=16,\n",
        "          validation_data=(x_test_normalised, y_test),\n",
        "          callbacks=[tensorboard_callback]\n",
        ")"
      ],
      "execution_count": 20,
      "outputs": [
        {
          "output_type": "stream",
          "name": "stdout",
          "text": [
            "Epoch 1/20\n",
            "3125/3125 [==============================] - 126s 30ms/step - loss: 1.7938 - accuracy: 0.3853 - val_loss: 1.2225 - val_accuracy: 0.5655\n",
            "Epoch 2/20\n",
            "3125/3125 [==============================] - 80s 26ms/step - loss: 1.2433 - accuracy: 0.5708 - val_loss: 1.0980 - val_accuracy: 0.6143\n",
            "Epoch 3/20\n",
            "3125/3125 [==============================] - 81s 26ms/step - loss: 1.0405 - accuracy: 0.6470 - val_loss: 1.0117 - val_accuracy: 0.6541\n",
            "Epoch 4/20\n",
            "3125/3125 [==============================] - 83s 26ms/step - loss: 0.9148 - accuracy: 0.6903 - val_loss: 0.7221 - val_accuracy: 0.7529\n",
            "Epoch 5/20\n",
            "3125/3125 [==============================] - 114s 37ms/step - loss: 0.8173 - accuracy: 0.7243 - val_loss: 0.6921 - val_accuracy: 0.7625\n",
            "Epoch 6/20\n",
            "3125/3125 [==============================] - 111s 36ms/step - loss: 0.7517 - accuracy: 0.7444 - val_loss: 0.6512 - val_accuracy: 0.7748\n",
            "Epoch 7/20\n",
            "3125/3125 [==============================] - 80s 26ms/step - loss: 0.6882 - accuracy: 0.7677 - val_loss: 0.5653 - val_accuracy: 0.8067\n",
            "Epoch 8/20\n",
            "3125/3125 [==============================] - 83s 27ms/step - loss: 0.6473 - accuracy: 0.7832 - val_loss: 0.5803 - val_accuracy: 0.8078\n",
            "Epoch 9/20\n",
            "3125/3125 [==============================] - 115s 37ms/step - loss: 0.6014 - accuracy: 0.7966 - val_loss: 0.5759 - val_accuracy: 0.8083\n",
            "Epoch 10/20\n",
            "3125/3125 [==============================] - 99s 32ms/step - loss: 0.5804 - accuracy: 0.8047 - val_loss: 0.5483 - val_accuracy: 0.8164\n",
            "Epoch 11/20\n",
            "3125/3125 [==============================] - 114s 36ms/step - loss: 0.5451 - accuracy: 0.8180 - val_loss: 0.5557 - val_accuracy: 0.8138\n",
            "Epoch 12/20\n",
            "3125/3125 [==============================] - 111s 36ms/step - loss: 0.5206 - accuracy: 0.8246 - val_loss: 0.5206 - val_accuracy: 0.8257\n",
            "Epoch 13/20\n",
            "3125/3125 [==============================] - 81s 26ms/step - loss: 0.4948 - accuracy: 0.8343 - val_loss: 0.5009 - val_accuracy: 0.8318\n",
            "Epoch 14/20\n",
            "3125/3125 [==============================] - 83s 27ms/step - loss: 0.4682 - accuracy: 0.8429 - val_loss: 0.5517 - val_accuracy: 0.8134\n",
            "Epoch 15/20\n",
            "3125/3125 [==============================] - 93s 30ms/step - loss: 0.4699 - accuracy: 0.8405 - val_loss: 0.4974 - val_accuracy: 0.8347\n",
            "Epoch 16/20\n",
            "3125/3125 [==============================] - 83s 27ms/step - loss: 0.4335 - accuracy: 0.8537 - val_loss: 0.4966 - val_accuracy: 0.8372\n",
            "Epoch 17/20\n",
            "3125/3125 [==============================] - 110s 35ms/step - loss: 0.4182 - accuracy: 0.8573 - val_loss: 0.5082 - val_accuracy: 0.8347\n",
            "Epoch 18/20\n",
            "3125/3125 [==============================] - 81s 26ms/step - loss: 0.4158 - accuracy: 0.8591 - val_loss: 0.5114 - val_accuracy: 0.8284\n",
            "Epoch 19/20\n",
            "3125/3125 [==============================] - 80s 26ms/step - loss: 0.3908 - accuracy: 0.8689 - val_loss: 0.5108 - val_accuracy: 0.8297\n",
            "Epoch 20/20\n",
            "3125/3125 [==============================] - 81s 26ms/step - loss: 0.3933 - accuracy: 0.8679 - val_loss: 0.5032 - val_accuracy: 0.8369\n"
          ]
        }
      ]
    },
    {
      "cell_type": "code",
      "metadata": {
        "colab": {
          "base_uri": "https://localhost:8080/"
        },
        "id": "9LA98EoMYYU3",
        "outputId": "b2591734-e1c2-47f5-97cf-1fef6f7cbd77"
      },
      "source": [
        "#evaluating the model performance against test dataset\n",
        "cnn_model.evaluate(x_test_normalised, y_test)"
      ],
      "execution_count": 21,
      "outputs": [
        {
          "output_type": "stream",
          "name": "stdout",
          "text": [
            "313/313 [==============================] - 4s 10ms/step - loss: 0.5032 - accuracy: 0.8369\n"
          ]
        },
        {
          "output_type": "execute_result",
          "data": {
            "text/plain": [
              "[0.5031639933586121, 0.836899995803833]"
            ]
          },
          "metadata": {},
          "execution_count": 21
        }
      ]
    },
    {
      "cell_type": "code",
      "metadata": {
        "colab": {
          "base_uri": "https://localhost:8080/",
          "height": 296
        },
        "id": "Cr09P5Bplxgz",
        "outputId": "96a48836-010c-4791-fb71-e4373f6b07d0"
      },
      "source": [
        "#plotting Loss vs number of epochs\n",
        "plt.xlabel('Epoch Number')\n",
        "plt.ylabel('Loss')\n",
        "plt.plot(training_history.history['loss'], label='training set')\n",
        "plt.plot(training_history.history['val_loss'], label='test set')\n",
        "plt.legend()"
      ],
      "execution_count": 22,
      "outputs": [
        {
          "output_type": "execute_result",
          "data": {
            "text/plain": [
              "<matplotlib.legend.Legend at 0x7fc583832810>"
            ]
          },
          "metadata": {},
          "execution_count": 22
        },
        {
          "output_type": "display_data",
          "data": {
            "image/png": "[encoded data removed]",
            "text/plain": [
              "<Figure size 432x288 with 1 Axes>"
            ]
          },
          "metadata": {
            "needs_background": "light"
          }
        }
      ]
    },
    {
      "cell_type": "code",
      "metadata": {
        "colab": {
          "base_uri": "https://localhost:8080/",
          "height": 296
        },
        "id": "EhfpluQll6gj",
        "outputId": "df6c9310-5c77-4c9b-fda0-1b2eeaf8ecaa"
      },
      "source": [
        "#plotting Accuracy vs number of epochs\n",
        "plt.xlabel('Epoch Number')\n",
        "plt.ylabel('Accuracy')\n",
        "plt.plot(training_history.history['accuracy'], label='training set')\n",
        "plt.plot(training_history.history['val_accuracy'], label='test set')\n",
        "plt.legend()"
      ],
      "execution_count": 23,
      "outputs": [
        {
          "output_type": "execute_result",
          "data": {
            "text/plain": [
              "<matplotlib.legend.Legend at 0x7fc5837b4990>"
            ]
          },
          "metadata": {},
          "execution_count": 23
        },
        {
          "output_type": "display_data",
          "data": {
            "image/png": "[encoded data removed]",
            "text/plain": [
              "<Figure size 432x288 with 1 Axes>"
            ]
          },
          "metadata": {
            "needs_background": "light"
          }
        }
      ]
    },
    {
      "cell_type": "code",
      "metadata": {
        "colab": {
          "base_uri": "https://localhost:8080/",
          "height": 459
        },
        "id": "SuxMd1l-TsNW",
        "outputId": "a88c2a15-3153-4463-b07f-2905341c56ce"
      },
      "source": [
        "#plotting the confusion matrix to visualize the model predictions\n",
        "y_predicted = cnn_model.predict(x_test_normalised)\n",
        "y_predicted_labels = [np.argmax(i) for i in y_predicted]\n",
        "cm = tf.math.confusion_matrix(labels=y_test, predictions=y_predicted_labels)\n",
        "\n",
        "plt.figure(figsize = (10,7))\n",
        "sn.heatmap(cm, annot=True, fmt='d')\n",
        "plt.xlabel('Predicted')\n",
        "plt.ylabel('Truth')"
      ],
      "execution_count": 24,
      "outputs": [
        {
          "output_type": "execute_result",
          "data": {
            "text/plain": [
              "Text(69.0, 0.5, 'Truth')"
            ]
          },
          "metadata": {},
          "execution_count": 24
        },
        {
          "output_type": "display_data",
          "data": {
            "image/png": "[encoded data removed]",
            "text/plain": [
              "<Figure size 720x504 with 2 Axes>"
            ]
          },
          "metadata": {
            "needs_background": "light"
          }
        }
      ]
    },
    {
      "cell_type": "code",
      "metadata": {
        "colab": {
          "base_uri": "https://localhost:8080/"
        },
        "id": "r0lOnlmGbK-w",
        "outputId": "c18c9097-a8f0-4c84-82ad-93da2d0144c3"
      },
      "source": [
        "#printing the classification report\n",
        "print(classification_report(y_test, y_predicted_labels))"
      ],
      "execution_count": 25,
      "outputs": [
        {
          "output_type": "stream",
          "name": "stdout",
          "text": [
            "              precision    recall  f1-score   support\n",
            "\n",
            "           0       0.80      0.89      0.84      1000\n",
            "           1       0.91      0.95      0.93      1000\n",
            "           2       0.77      0.75      0.76      1000\n",
            "           3       0.69      0.71      0.70      1000\n",
            "           4       0.75      0.88      0.81      1000\n",
            "           5       0.80      0.73      0.76      1000\n",
            "           6       0.92      0.84      0.88      1000\n",
            "           7       0.88      0.88      0.88      1000\n",
            "           8       0.92      0.89      0.90      1000\n",
            "           9       0.97      0.85      0.90      1000\n",
            "\n",
            "    accuracy                           0.84     10000\n",
            "   macro avg       0.84      0.84      0.84     10000\n",
            "weighted avg       0.84      0.84      0.84     10000\n",
            "\n"
          ]
        }
      ]
    },
    {
      "cell_type": "code",
      "metadata": {
        "id": "E8cn_CDBTyty"
      },
      "source": [
        "#predicting the model for test dataset\n",
        "y_pred = cnn_model.predict(x_test_normalised)"
      ],
      "execution_count": 26,
      "outputs": []
    },
    {
      "cell_type": "code",
      "metadata": {
        "colab": {
          "base_uri": "https://localhost:8080/"
        },
        "id": "pHM-mAacUS4Y",
        "outputId": "002c5785-af64-47e1-c943-6112b1ed7246"
      },
      "source": [
        "#prediction of model on any random test image\n",
        "np.argmax(y_pred[12])"
      ],
      "execution_count": 27,
      "outputs": [
        {
          "output_type": "execute_result",
          "data": {
            "text/plain": [
              "5"
            ]
          },
          "metadata": {},
          "execution_count": 27
        }
      ]
    },
    {
      "cell_type": "code",
      "metadata": {
        "colab": {
          "base_uri": "https://localhost:8080/",
          "height": 280
        },
        "id": "JDDIWkBvUkkb",
        "outputId": "98a23e70-1a8d-4809-dae5-342ba3b11a05"
      },
      "source": [
        "#as we can see the model predicted correctly. 5 stands for dog class\n",
        "image(x_test_normalised, y_test, 12)"
      ],
      "execution_count": 28,
      "outputs": [
        {
          "output_type": "display_data",
          "data": {
            "image/png": "[encoded data removed]",
            "text/plain": [
              "<Figure size 432x288 with 1 Axes>"
            ]
          },
          "metadata": {
            "needs_background": "light"
          }
        }
      ]
    },
    {
      "cell_type": "code",
      "metadata": {
        "colab": {
          "base_uri": "https://localhost:8080/"
        },
        "id": "4qr9LmacYG2N",
        "outputId": "c71f9d89-9ae5-445e-bdaf-dc0854d642ab"
      },
      "source": [
        "#prediction of model on any random test image\n",
        "np.argmax(y_pred[65])"
      ],
      "execution_count": 29,
      "outputs": [
        {
          "output_type": "execute_result",
          "data": {
            "text/plain": [
              "2"
            ]
          },
          "metadata": {},
          "execution_count": 29
        }
      ]
    },
    {
      "cell_type": "code",
      "metadata": {
        "colab": {
          "base_uri": "https://localhost:8080/",
          "height": 280
        },
        "id": "RMFGIxneYJwn",
        "outputId": "cc23bf42-9278-45c2-adfc-d6300130d73d"
      },
      "source": [
        "#as we can see the model predicted correctly. 2 stands for dog class\n",
        "image(x_test_normalised, y_test, 65)"
      ],
      "execution_count": 30,
      "outputs": [
        {
          "output_type": "display_data",
          "data": {
            "image/png": "[encoded data removed]",
            "text/plain": [
              "<Figure size 432x288 with 1 Axes>"
            ]
          },
          "metadata": {
            "needs_background": "light"
          }
        }
      ]
    }
  ]
}